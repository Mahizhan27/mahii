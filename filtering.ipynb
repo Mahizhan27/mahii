{
 "cells": [
  {
   "cell_type": "markdown",
   "id": "77c8deef",
   "metadata": {},
   "source": [
    "# filtering"
   ]
  },
  {
   "cell_type": "code",
   "execution_count": 1,
   "id": "5ee1e57d",
   "metadata": {},
   "outputs": [],
   "source": [
    "import cv2 \n",
    "import matplotlib.pyplot as plt\n",
    "import numpy as np"
   ]
  },
  {
   "cell_type": "code",
   "execution_count": 2,
   "id": "f61eb136",
   "metadata": {
    "scrolled": true
   },
   "outputs": [
    {
     "name": "stdout",
     "output_type": "stream",
     "text": [
      "[[[ 39 127 255]\n",
      "  [ 39 127 255]\n",
      "  [ 39 127 255]\n",
      "  ...\n",
      "  [ 39 127 254]\n",
      "  [ 39 127 253]\n",
      "  [ 40 127 254]]\n",
      "\n",
      " [[ 39 127 255]\n",
      "  [ 39 127 255]\n",
      "  [ 39 127 255]\n",
      "  ...\n",
      "  [ 39 127 253]\n",
      "  [ 39 127 253]\n",
      "  [ 40 127 254]]\n",
      "\n",
      " [[ 39 127 255]\n",
      "  [ 39 127 255]\n",
      "  [ 39 127 255]\n",
      "  ...\n",
      "  [ 39 126 252]\n",
      "  [ 39 126 252]\n",
      "  [ 39 126 253]]\n",
      "\n",
      " ...\n",
      "\n",
      " [[ 72 208  22]\n",
      "  [ 73 208  23]\n",
      "  [ 67 202  19]\n",
      "  ...\n",
      "  [ 68 206  15]\n",
      "  [ 67 205  15]\n",
      "  [ 69 209  14]]\n",
      "\n",
      " [[ 69 204  18]\n",
      "  [ 65 200  14]\n",
      "  [ 74 209  26]\n",
      "  ...\n",
      "  [ 68 207  16]\n",
      "  [ 67 206  15]\n",
      "  [ 69 209  14]]\n",
      "\n",
      " [[ 66 201  14]\n",
      "  [ 68 204  18]\n",
      "  [ 78 211  28]\n",
      "  ...\n",
      "  [ 69 208  17]\n",
      "  [ 68 205  15]\n",
      "  [ 69 209  14]]]\n"
     ]
    }
   ],
   "source": [
    "im1=cv2.imread(\"C:/Users/admin/Pictures/india.png\")\n",
    "print(im1)"
   ]
  },
  {
   "cell_type": "markdown",
   "id": "bc285a8c",
   "metadata": {},
   "source": [
    "# filter2d"
   ]
  },
  {
   "cell_type": "code",
   "execution_count": 3,
   "id": "dc30e1f2",
   "metadata": {},
   "outputs": [],
   "source": [
    "kernal=np.ones((5,5),np.float32)/25\n",
    "filter=cv2.filter2D(im1,-1,kernal)"
   ]
  },
  {
   "cell_type": "raw",
   "id": "527099e8",
   "metadata": {},
   "source": [
    "cv2.imshow('image',im1)\n",
    "cv2.imshow('filtered2d',filter)\n",
    "cv2.waitKey(0)\n",
    "cv2.destroyAllWindows()"
   ]
  },
  {
   "cell_type": "markdown",
   "id": "03a36da3",
   "metadata": {},
   "source": [
    "# blur"
   ]
  },
  {
   "cell_type": "code",
   "execution_count": 4,
   "id": "38918f5c",
   "metadata": {},
   "outputs": [],
   "source": [
    "blur= cv2.blur(im1,(3,3))"
   ]
  },
  {
   "cell_type": "raw",
   "id": "560f4112",
   "metadata": {},
   "source": [
    "cv2.imshow('image',im1)\n",
    "cv2.imshow('blur',blur)\n",
    "cv2.waitKey(0)\n",
    "cv2.destroyAllWindows()"
   ]
  },
  {
   "cell_type": "markdown",
   "id": "3cd0ba07",
   "metadata": {},
   "source": [
    "# Gaussian blur"
   ]
  },
  {
   "cell_type": "code",
   "execution_count": 5,
   "id": "977d12a5",
   "metadata": {},
   "outputs": [],
   "source": [
    "Gblur=cv2.GaussianBlur(im1,(7,7),0)"
   ]
  },
  {
   "cell_type": "raw",
   "id": "3732366e",
   "metadata": {},
   "source": [
    "cv2.imshow('imshow',im1)\n",
    "cv2.imshow('Gaussianblur',Gblur)\n",
    "cv2.waitKey(0)\n",
    "cv2.destroyAllWindows()"
   ]
  },
  {
   "cell_type": "markdown",
   "id": "eb903372",
   "metadata": {},
   "source": [
    "# bilateral filter"
   ]
  },
  {
   "cell_type": "code",
   "execution_count": 7,
   "id": "d1e4ae1b",
   "metadata": {},
   "outputs": [
    {
     "name": "stdout",
     "output_type": "stream",
     "text": [
      "(264, 296, 3)\n"
     ]
    }
   ],
   "source": [
    "print(im1.shape)"
   ]
  },
  {
   "cell_type": "code",
   "execution_count": 8,
   "id": "26023957",
   "metadata": {},
   "outputs": [],
   "source": [
    "Bfilter=cv2.bilateralFilter(im1,9,50,50)"
   ]
  },
  {
   "cell_type": "raw",
   "id": "4771be14",
   "metadata": {},
   "source": [
    "cv2.imshow('image',img)\n",
    "cv2.imshow('Bilateralfilter',Bfilter)\n",
    "cv2.waitKey(0)\n",
    "cv2.destroyAllWindows()"
   ]
  },
  {
   "cell_type": "markdown",
   "id": "1d1bd45f",
   "metadata": {},
   "source": [
    "# median filter"
   ]
  },
  {
   "cell_type": "code",
   "execution_count": 9,
   "id": "9eaec55f",
   "metadata": {},
   "outputs": [],
   "source": [
    "medianfilter= cv2.medianBlur(im1,5)"
   ]
  },
  {
   "cell_type": "raw",
   "id": "556bc8f4",
   "metadata": {},
   "source": [
    "cv2.imshow('image',im1)\n",
    "cv2.imshow('medianblur',medianfilter)\n",
    "cv2.waitKey(0)\n",
    "cv2.destroyAllWindows()"
   ]
  },
  {
   "cell_type": "code",
   "execution_count": null,
   "id": "fe095e95",
   "metadata": {},
   "outputs": [],
   "source": []
  },
  {
   "cell_type": "markdown",
   "id": "7637b3ce",
   "metadata": {},
   "source": [
    "# Laplacian Filter"
   ]
  },
  {
   "cell_type": "code",
   "execution_count": null,
   "id": "71002377",
   "metadata": {},
   "outputs": [],
   "source": []
  },
  {
   "cell_type": "code",
   "execution_count": null,
   "id": "ff15e360",
   "metadata": {},
   "outputs": [],
   "source": []
  },
  {
   "cell_type": "code",
   "execution_count": null,
   "id": "43b682f7",
   "metadata": {},
   "outputs": [],
   "source": []
  },
  {
   "cell_type": "code",
   "execution_count": null,
   "id": "e9e5d6d8",
   "metadata": {},
   "outputs": [],
   "source": []
  },
  {
   "cell_type": "code",
   "execution_count": null,
   "id": "56d0df84",
   "metadata": {},
   "outputs": [],
   "source": []
  },
  {
   "cell_type": "code",
   "execution_count": null,
   "id": "81034b68",
   "metadata": {},
   "outputs": [],
   "source": []
  },
  {
   "cell_type": "code",
   "execution_count": null,
   "id": "0c2ec8a7",
   "metadata": {},
   "outputs": [],
   "source": []
  },
  {
   "cell_type": "code",
   "execution_count": null,
   "id": "37eb7920",
   "metadata": {},
   "outputs": [],
   "source": []
  },
  {
   "cell_type": "code",
   "execution_count": null,
   "id": "2d39b481",
   "metadata": {},
   "outputs": [],
   "source": []
  }
 ],
 "metadata": {
  "kernelspec": {
   "display_name": "Python 3 (ipykernel)",
   "language": "python",
   "name": "python3"
  },
  "language_info": {
   "codemirror_mode": {
    "name": "ipython",
    "version": 3
   },
   "file_extension": ".py",
   "mimetype": "text/x-python",
   "name": "python",
   "nbconvert_exporter": "python",
   "pygments_lexer": "ipython3",
   "version": "3.9.7"
  }
 },
 "nbformat": 4,
 "nbformat_minor": 5
}

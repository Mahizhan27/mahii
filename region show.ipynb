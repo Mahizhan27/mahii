{
 "cells": [
  {
   "cell_type": "code",
   "execution_count": 2,
   "id": "53a62843",
   "metadata": {},
   "outputs": [
    {
     "name": "stdout",
     "output_type": "stream",
     "text": [
      "Requirement already satisfied: imutils in c:\\programdata\\anaconda3\\lib\\site-packages (0.5.4)\n",
      "Note: you may need to restart the kernel to use updated packages.\n"
     ]
    }
   ],
   "source": [
    "pip install imutils"
   ]
  },
  {
   "cell_type": "code",
   "execution_count": 4,
   "id": "3bd8a80f",
   "metadata": {},
   "outputs": [],
   "source": [
    "import cv2\n",
    "import imutils"
   ]
  },
  {
   "cell_type": "markdown",
   "id": "e778444a",
   "metadata": {},
   "source": [
    "# initializing the HOG person detector"
   ]
  },
  {
   "cell_type": "code",
   "execution_count": 5,
   "id": "d64d7bd2",
   "metadata": {},
   "outputs": [],
   "source": [
    "img = cv2.imread(\"tvk.jfif\")"
   ]
  },
  {
   "cell_type": "code",
   "execution_count": 6,
   "id": "1df713f4",
   "metadata": {},
   "outputs": [
    {
     "data": {
      "text/plain": [
       "array([[[195, 211, 218],\n",
       "        [208, 224, 231],\n",
       "        [216, 232, 239],\n",
       "        ...,\n",
       "        [190, 202, 206],\n",
       "        [190, 202, 206],\n",
       "        [191, 203, 207]],\n",
       "\n",
       "       [[195, 211, 218],\n",
       "        [207, 223, 230],\n",
       "        [216, 232, 239],\n",
       "        ...,\n",
       "        [190, 202, 206],\n",
       "        [191, 203, 207],\n",
       "        [191, 203, 207]],\n",
       "\n",
       "       [[193, 209, 216],\n",
       "        [207, 223, 230],\n",
       "        [217, 233, 240],\n",
       "        ...,\n",
       "        [191, 203, 207],\n",
       "        [191, 203, 207],\n",
       "        [191, 203, 207]],\n",
       "\n",
       "       ...,\n",
       "\n",
       "       [[ 47,  55,  78],\n",
       "        [ 50,  61,  83],\n",
       "        [ 59,  70,  90],\n",
       "        ...,\n",
       "        [128, 183, 240],\n",
       "        [121, 182, 248],\n",
       "        [102, 163, 229]],\n",
       "\n",
       "       [[ 30,  44,  63],\n",
       "        [ 40,  55,  74],\n",
       "        [ 53,  69,  86],\n",
       "        ...,\n",
       "        [131, 180, 220],\n",
       "        [120, 176, 225],\n",
       "        [114, 171, 226]],\n",
       "\n",
       "       [[ 69,  85, 102],\n",
       "        [ 78,  96, 113],\n",
       "        [ 92, 110, 127],\n",
       "        ...,\n",
       "        [141, 186, 219],\n",
       "        [129, 183, 224],\n",
       "        [122, 178, 225]]], dtype=uint8)"
      ]
     },
     "execution_count": 6,
     "metadata": {},
     "output_type": "execute_result"
    }
   ],
   "source": [
    "img"
   ]
  },
  {
   "cell_type": "code",
   "execution_count": 10,
   "id": "04642bcb",
   "metadata": {},
   "outputs": [
    {
     "data": {
      "text/plain": [
       "< cv2.HOGDescriptor 0000024C48A08BD0>"
      ]
     },
     "execution_count": 10,
     "metadata": {},
     "output_type": "execute_result"
    }
   ],
   "source": [
    "hog = cv2.HOGDescriptor()\n",
    "hog.setSVMDetector(cv2.HOGDescriptor_getDefaultPeopleDetector())\n",
    "hog"
   ]
  },
  {
   "cell_type": "code",
   "execution_count": 11,
   "id": "0a19e7ad",
   "metadata": {},
   "outputs": [],
   "source": [
    "image = cv2. imread(\"tvk.jfif\")"
   ]
  },
  {
   "cell_type": "code",
   "execution_count": 12,
   "id": "c4911619",
   "metadata": {},
   "outputs": [],
   "source": [
    "image = imutils.resize(image,width=min(400,image.shape[1]))"
   ]
  },
  {
   "cell_type": "code",
   "execution_count": 13,
   "id": "c693a121",
   "metadata": {},
   "outputs": [
    {
     "data": {
      "text/plain": [
       "array([[[195, 211, 218],\n",
       "        [208, 224, 231],\n",
       "        [216, 232, 239],\n",
       "        ...,\n",
       "        [190, 202, 206],\n",
       "        [190, 202, 206],\n",
       "        [191, 203, 207]],\n",
       "\n",
       "       [[195, 211, 218],\n",
       "        [207, 223, 230],\n",
       "        [216, 232, 239],\n",
       "        ...,\n",
       "        [190, 202, 206],\n",
       "        [191, 203, 207],\n",
       "        [191, 203, 207]],\n",
       "\n",
       "       [[193, 209, 216],\n",
       "        [207, 223, 230],\n",
       "        [217, 233, 240],\n",
       "        ...,\n",
       "        [191, 203, 207],\n",
       "        [191, 203, 207],\n",
       "        [191, 203, 207]],\n",
       "\n",
       "       ...,\n",
       "\n",
       "       [[ 47,  55,  78],\n",
       "        [ 50,  61,  83],\n",
       "        [ 59,  70,  90],\n",
       "        ...,\n",
       "        [128, 183, 240],\n",
       "        [121, 182, 248],\n",
       "        [102, 163, 229]],\n",
       "\n",
       "       [[ 30,  44,  63],\n",
       "        [ 40,  55,  74],\n",
       "        [ 53,  69,  86],\n",
       "        ...,\n",
       "        [131, 180, 220],\n",
       "        [120, 176, 225],\n",
       "        [114, 171, 226]],\n",
       "\n",
       "       [[ 69,  85, 102],\n",
       "        [ 78,  96, 113],\n",
       "        [ 92, 110, 127],\n",
       "        ...,\n",
       "        [141, 186, 219],\n",
       "        [129, 183, 224],\n",
       "        [122, 178, 225]]], dtype=uint8)"
      ]
     },
     "execution_count": 13,
     "metadata": {},
     "output_type": "execute_result"
    }
   ],
   "source": [
    "image"
   ]
  },
  {
   "cell_type": "code",
   "execution_count": 16,
   "id": "f9f823f9",
   "metadata": {},
   "outputs": [
    {
     "data": {
      "text/plain": [
       "array([[ 62,   0,  95, 178],\n",
       "       [123,   0,  94, 179]])"
      ]
     },
     "execution_count": 16,
     "metadata": {},
     "output_type": "execute_result"
    }
   ],
   "source": [
    "(regions,img) = hog.detectMultiScale(img,\n",
    "                                    winStride=(1,1),\n",
    "                                    padding=(40,40),\n",
    "                                    scale=1.05)\n",
    "regions"
   ]
  },
  {
   "cell_type": "code",
   "execution_count": 21,
   "id": "8b0e6ffc",
   "metadata": {},
   "outputs": [],
   "source": [
    "for(x,y,w,h) in regions:\n",
    "    cv2.rectangle(image,(x,y),(x + w, y + h),(0, 255, 0), 3)"
   ]
  },
  {
   "cell_type": "code",
   "execution_count": null,
   "id": "50166785",
   "metadata": {},
   "outputs": [],
   "source": [
    "cv2.imshow(\"Image\",image)\n",
    "cv2.waitKey(0)\n",
    "cv2.destroyAllWindows()"
   ]
  },
  {
   "cell_type": "code",
   "execution_count": null,
   "id": "b4088ddf",
   "metadata": {},
   "outputs": [],
   "source": []
  }
 ],
 "metadata": {
  "kernelspec": {
   "display_name": "Python 3 (ipykernel)",
   "language": "python",
   "name": "python3"
  },
  "language_info": {
   "codemirror_mode": {
    "name": "ipython",
    "version": 3
   },
   "file_extension": ".py",
   "mimetype": "text/x-python",
   "name": "python",
   "nbconvert_exporter": "python",
   "pygments_lexer": "ipython3",
   "version": "3.9.12"
  }
 },
 "nbformat": 4,
 "nbformat_minor": 5
}

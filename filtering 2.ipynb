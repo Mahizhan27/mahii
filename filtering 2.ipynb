{
 "cells": [
  {
   "cell_type": "markdown",
   "id": "77c8deef",
   "metadata": {},
   "source": [
    "# filtering"
   ]
  },
  {
   "cell_type": "code",
   "execution_count": 8,
   "id": "5ee1e57d",
   "metadata": {},
   "outputs": [],
   "source": [
    "import cv2 as cv\n",
    "import matplotlib.pyplot as plt\n",
    "import numpy as np"
   ]
  },
  {
   "cell_type": "code",
   "execution_count": 9,
   "id": "f61eb136",
   "metadata": {
    "scrolled": true
   },
   "outputs": [
    {
     "name": "stdout",
     "output_type": "stream",
     "text": [
      "[[[ 1 13 13]\n",
      "  [ 3 13 13]\n",
      "  [ 8 13 16]\n",
      "  ...\n",
      "  [16 14 14]\n",
      "  [16 14 14]\n",
      "  [16 14 14]]\n",
      "\n",
      " [[ 5 13 13]\n",
      "  [ 5 13 13]\n",
      "  [ 9 12 16]\n",
      "  ...\n",
      "  [16 14 14]\n",
      "  [16 14 14]\n",
      "  [16 14 14]]\n",
      "\n",
      " [[11 13 13]\n",
      "  [11 13 14]\n",
      "  [13 12 16]\n",
      "  ...\n",
      "  [17 15 15]\n",
      "  [17 15 15]\n",
      "  [17 15 15]]\n",
      "\n",
      " ...\n",
      "\n",
      " [[23  6  9]\n",
      "  [21  7  9]\n",
      "  [16  8  9]\n",
      "  ...\n",
      "  [ 6  8  9]\n",
      "  [ 6  8  9]\n",
      "  [ 6  8  9]]\n",
      "\n",
      " [[21  7  9]\n",
      "  [20  7  9]\n",
      "  [16  8  9]\n",
      "  ...\n",
      "  [ 6  8  9]\n",
      "  [ 6  8  9]\n",
      "  [ 6  8  9]]\n",
      "\n",
      " [[16  8  9]\n",
      "  [14  8  9]\n",
      "  [13  8  9]\n",
      "  ...\n",
      "  [ 6  8  9]\n",
      "  [ 6  8  9]\n",
      "  [ 6  8  9]]]\n"
     ]
    }
   ],
   "source": [
    "im1=cv.imread(\"C:/Users/SN124/image/ben 100.jfif\")\n",
    "print(im1)"
   ]
  },
  {
   "cell_type": "markdown",
   "id": "bc285a8c",
   "metadata": {},
   "source": [
    "# filter2d"
   ]
  },
  {
   "cell_type": "code",
   "execution_count": 10,
   "id": "dc30e1f2",
   "metadata": {},
   "outputs": [],
   "source": [
    "kernal=np.ones((5,5),np.float32)/25\n",
    "filter=cv.filter2D(im1,-1,kernal)"
   ]
  },
  {
   "cell_type": "raw",
   "id": "527099e8",
   "metadata": {},
   "source": [
    "cv2.imshow('image',im1)\n",
    "cv2.imshow('filtered2d',filter)\n",
    "cv2.waitKey(0)\n",
    "cv2.destroyAllWindows()"
   ]
  },
  {
   "cell_type": "markdown",
   "id": "03a36da3",
   "metadata": {},
   "source": [
    "# blur"
   ]
  },
  {
   "cell_type": "code",
   "execution_count": 11,
   "id": "38918f5c",
   "metadata": {},
   "outputs": [],
   "source": [
    "blur= cv.blur(im1,(3,3))"
   ]
  },
  {
   "cell_type": "raw",
   "id": "560f4112",
   "metadata": {},
   "source": [
    "cv2.imshow('image',im1)\n",
    "cv2.imshow('blur',blur)\n",
    "cv2.waitKey(0)\n",
    "cv2.destroyAllWindows()"
   ]
  },
  {
   "cell_type": "markdown",
   "id": "3cd0ba07",
   "metadata": {},
   "source": [
    "# Gaussian blur"
   ]
  },
  {
   "cell_type": "code",
   "execution_count": 12,
   "id": "977d12a5",
   "metadata": {},
   "outputs": [],
   "source": [
    "Gblur=cv.GaussianBlur(im1,(7,7),0)"
   ]
  },
  {
   "cell_type": "raw",
   "id": "3732366e",
   "metadata": {},
   "source": [
    "cv2.imshow('imshow',im1)\n",
    "cv2.imshow('Gaussianblur',Gblur)\n",
    "cv2.waitKey(0)\n",
    "cv2.destroyAllWindows()"
   ]
  },
  {
   "cell_type": "markdown",
   "id": "eb903372",
   "metadata": {},
   "source": [
    "# bilateral filter"
   ]
  },
  {
   "cell_type": "code",
   "execution_count": 13,
   "id": "d1e4ae1b",
   "metadata": {},
   "outputs": [
    {
     "name": "stdout",
     "output_type": "stream",
     "text": [
      "(237, 213, 3)\n"
     ]
    }
   ],
   "source": [
    "print(im1.shape)"
   ]
  },
  {
   "cell_type": "code",
   "execution_count": 15,
   "id": "26023957",
   "metadata": {},
   "outputs": [],
   "source": [
    "Bfilter=cv.bilateralFilter(im1,9,50,50)"
   ]
  },
  {
   "cell_type": "raw",
   "id": "4771be14",
   "metadata": {},
   "source": [
    "cv2.imshow('image',img)\n",
    "cv2.imshow('Bilateralfilter',Bfilter)\n",
    "cv2.waitKey(0)\n",
    "cv2.destroyAllWindows()"
   ]
  },
  {
   "cell_type": "markdown",
   "id": "1d1bd45f",
   "metadata": {},
   "source": [
    "# median filter"
   ]
  },
  {
   "cell_type": "code",
   "execution_count": 16,
   "id": "9eaec55f",
   "metadata": {},
   "outputs": [],
   "source": [
    "medianfilter= cv.medianBlur(im1,5)"
   ]
  },
  {
   "cell_type": "raw",
   "id": "556bc8f4",
   "metadata": {},
   "source": [
    "cv2.imshow('image',img)\n",
    "cv2.imshow('medianBlur',medianfilter)\n",
    "cv2.waitKey(0)\n",
    "cv2.destroyAllWindows()"
   ]
  },
  {
   "cell_type": "code",
   "execution_count": null,
   "id": "fe095e95",
   "metadata": {},
   "outputs": [],
   "source": []
  },
  {
   "cell_type": "markdown",
   "id": "7637b3ce",
   "metadata": {},
   "source": [
    "# Laplacian Filter"
   ]
  },
  {
   "cell_type": "code",
   "execution_count": 20,
   "id": "71002377",
   "metadata": {},
   "outputs": [],
   "source": [
    "img=cv.imread('C:/Users/SN124/image/ben 100.jfif',0)\n",
    "lap=cv.Laplacian(img,cv.CV_64F,ksize=3)\n",
    "cv.imshow('image',img)\n",
    "cv.imshow('laplacian',lap)\n",
    "cv.waitKey(0)\n",
    "cv.destroyAllWindows()"
   ]
  },
  {
   "cell_type": "code",
   "execution_count": 21,
   "id": "ff15e360",
   "metadata": {},
   "outputs": [
    {
     "data": {
      "text/plain": [
       "array([[12, 12, 13, ..., 14, 14, 14],\n",
       "       [12, 12, 13, ..., 14, 14, 14],\n",
       "       [13, 13, 13, ..., 15, 15, 15],\n",
       "       ...,\n",
       "       [ 9,  9,  9, ...,  8,  8,  8],\n",
       "       [ 9,  9,  9, ...,  8,  8,  8],\n",
       "       [ 9,  9,  9, ...,  8,  8,  8]], dtype=uint8)"
      ]
     },
     "execution_count": 21,
     "metadata": {},
     "output_type": "execute_result"
    }
   ],
   "source": [
    "img"
   ]
  },
  {
   "cell_type": "markdown",
   "id": "dfb94912",
   "metadata": {},
   "source": [
    "# sobel Filter"
   ]
  },
  {
   "cell_type": "code",
   "execution_count": 30,
   "id": "e9e5d6d8",
   "metadata": {},
   "outputs": [],
   "source": [
    "img=cv.imread('C:/Users/SN124/Downloads/mm.jpg',0)\n",
    "sobelx=cv.Sobel(img,cv.CV_64F,1,0,ksize=-3)\n",
    "sobelx=np.uint8(np.absolute(sobelx))\n",
    "cv.imshow('image',img)\n",
    "cv.imshow('sobelx',sobelx)\n",
    "cv.waitKey(0)\n",
    "cv.destroyAllWindows()"
   ]
  },
  {
   "cell_type": "code",
   "execution_count": null,
   "id": "56d0df84",
   "metadata": {},
   "outputs": [],
   "source": [
    "sobely=cv.Sobel(img,cv.CV_64F,0,1,ksize=-3)\n",
    "sobely=np.uint8(np.absolute(sobely))\n",
    "cv.imshow('image',img)\n",
    "cv.imshow('sobelx',sobely)\n",
    "cv.waitKey(0)\n",
    "cv.destroyAllWindows()"
   ]
  },
  {
   "cell_type": "code",
   "execution_count": null,
   "id": "81034b68",
   "metadata": {},
   "outputs": [],
   "source": []
  },
  {
   "cell_type": "code",
   "execution_count": null,
   "id": "0c2ec8a7",
   "metadata": {},
   "outputs": [],
   "source": []
  },
  {
   "cell_type": "code",
   "execution_count": null,
   "id": "37eb7920",
   "metadata": {},
   "outputs": [],
   "source": []
  },
  {
   "cell_type": "code",
   "execution_count": null,
   "id": "2d39b481",
   "metadata": {},
   "outputs": [],
   "source": []
  }
 ],
 "metadata": {
  "kernelspec": {
   "display_name": "Python 3 (ipykernel)",
   "language": "python",
   "name": "python3"
  },
  "language_info": {
   "codemirror_mode": {
    "name": "ipython",
    "version": 3
   },
   "file_extension": ".py",
   "mimetype": "text/x-python",
   "name": "python",
   "nbconvert_exporter": "python",
   "pygments_lexer": "ipython3",
   "version": "3.9.12"
  }
 },
 "nbformat": 4,
 "nbformat_minor": 5
}

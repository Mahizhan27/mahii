{
 "cells": [
  {
   "cell_type": "markdown",
   "id": "db57481f",
   "metadata": {},
   "source": [
    "k-means clustering"
   ]
  },
  {
   "cell_type": "code",
   "execution_count": 6,
   "id": "2e0dcb11",
   "metadata": {},
   "outputs": [],
   "source": [
    "#pip install opencv"
   ]
  },
  {
   "cell_type": "code",
   "execution_count": 7,
   "id": "f8974838",
   "metadata": {},
   "outputs": [],
   "source": [
    "import cv2 as cv\n",
    "import numpy as np"
   ]
  },
  {
   "cell_type": "code",
   "execution_count": 13,
   "id": "e1199e23",
   "metadata": {},
   "outputs": [
    {
     "data": {
      "text/plain": [
       "array([[[ 1, 13, 13],\n",
       "        [ 3, 13, 13],\n",
       "        [ 8, 13, 16],\n",
       "        ...,\n",
       "        [16, 14, 14],\n",
       "        [16, 14, 14],\n",
       "        [16, 14, 14]],\n",
       "\n",
       "       [[ 5, 13, 13],\n",
       "        [ 5, 13, 13],\n",
       "        [ 9, 12, 16],\n",
       "        ...,\n",
       "        [16, 14, 14],\n",
       "        [16, 14, 14],\n",
       "        [16, 14, 14]],\n",
       "\n",
       "       [[11, 13, 13],\n",
       "        [11, 13, 14],\n",
       "        [13, 12, 16],\n",
       "        ...,\n",
       "        [17, 15, 15],\n",
       "        [17, 15, 15],\n",
       "        [17, 15, 15]],\n",
       "\n",
       "       ...,\n",
       "\n",
       "       [[23,  6,  9],\n",
       "        [21,  7,  9],\n",
       "        [16,  8,  9],\n",
       "        ...,\n",
       "        [ 6,  8,  9],\n",
       "        [ 6,  8,  9],\n",
       "        [ 6,  8,  9]],\n",
       "\n",
       "       [[21,  7,  9],\n",
       "        [20,  7,  9],\n",
       "        [16,  8,  9],\n",
       "        ...,\n",
       "        [ 6,  8,  9],\n",
       "        [ 6,  8,  9],\n",
       "        [ 6,  8,  9]],\n",
       "\n",
       "       [[16,  8,  9],\n",
       "        [14,  8,  9],\n",
       "        [13,  8,  9],\n",
       "        ...,\n",
       "        [ 6,  8,  9],\n",
       "        [ 6,  8,  9],\n",
       "        [ 6,  8,  9]]], dtype=uint8)"
      ]
     },
     "execution_count": 13,
     "metadata": {},
     "output_type": "execute_result"
    }
   ],
   "source": [
    "img=cv.imread(\"C:/Users/SN124/image/ben 100.jfif\")\n",
    "img"
   ]
  },
  {
   "cell_type": "code",
   "execution_count": 14,
   "id": "de447374",
   "metadata": {},
   "outputs": [],
   "source": [
    "imgrgh=cv.cvtColor(img,cv.COLOR_BGR2RGB)"
   ]
  },
  {
   "cell_type": "code",
   "execution_count": 15,
   "id": "bdafdcfe",
   "metadata": {},
   "outputs": [],
   "source": [
    "vec=imgrgh.reshape((-1,3))"
   ]
  },
  {
   "cell_type": "code",
   "execution_count": 16,
   "id": "5401a3eb",
   "metadata": {},
   "outputs": [
    {
     "data": {
      "text/plain": [
       "array([[13, 13,  1],\n",
       "       [13, 13,  3],\n",
       "       [16, 13,  8],\n",
       "       ...,\n",
       "       [ 9,  8,  6],\n",
       "       [ 9,  8,  6],\n",
       "       [ 9,  8,  6]], dtype=uint8)"
      ]
     },
     "execution_count": 16,
     "metadata": {},
     "output_type": "execute_result"
    }
   ],
   "source": [
    "vec"
   ]
  },
  {
   "cell_type": "code",
   "execution_count": 17,
   "id": "f97b84c2",
   "metadata": {},
   "outputs": [],
   "source": [
    "vecy=np.float32(vec)"
   ]
  },
  {
   "cell_type": "code",
   "execution_count": 18,
   "id": "dce22519",
   "metadata": {},
   "outputs": [
    {
     "data": {
      "text/plain": [
       "array([[13., 13.,  1.],\n",
       "       [13., 13.,  3.],\n",
       "       [16., 13.,  8.],\n",
       "       ...,\n",
       "       [ 9.,  8.,  6.],\n",
       "       [ 9.,  8.,  6.],\n",
       "       [ 9.,  8.,  6.]], dtype=float32)"
      ]
     },
     "execution_count": 18,
     "metadata": {},
     "output_type": "execute_result"
    }
   ],
   "source": [
    "vecy"
   ]
  },
  {
   "cell_type": "code",
   "execution_count": 19,
   "id": "72c571b6",
   "metadata": {},
   "outputs": [],
   "source": [
    "criteria=(cv.TERM_CRITERIA_MAX_ITER,100,1)"
   ]
  },
  {
   "cell_type": "code",
   "execution_count": 20,
   "id": "953abc58",
   "metadata": {},
   "outputs": [],
   "source": [
    "k=3\n",
    "attempts=100"
   ]
  },
  {
   "cell_type": "code",
   "execution_count": 24,
   "id": "27ad49ae",
   "metadata": {},
   "outputs": [
    {
     "data": {
      "text/plain": [
       "array([[204.25311 , 228.37389 ,  82.57298 ],\n",
       "       [ 28.092161,  36.097206,  16.771368],\n",
       "       [105.0061  , 139.90024 ,  35.738934]], dtype=float32)"
      ]
     },
     "execution_count": 24,
     "metadata": {},
     "output_type": "execute_result"
    }
   ],
   "source": [
    "compactness,label,center=cv.kmeans(vecy,k,None,criteria,attempts,cv.KMEANS_PP_CENTERS)\n",
    "center"
   ]
  },
  {
   "cell_type": "code",
   "execution_count": 25,
   "id": "3fed0548",
   "metadata": {},
   "outputs": [
    {
     "data": {
      "text/plain": [
       "array([[204.25311 , 228.37389 ,  82.57298 ],\n",
       "       [ 28.092161,  36.097206,  16.771368],\n",
       "       [105.0061  , 139.90024 ,  35.738934]], dtype=float32)"
      ]
     },
     "execution_count": 25,
     "metadata": {},
     "output_type": "execute_result"
    }
   ],
   "source": [
    "center"
   ]
  },
  {
   "cell_type": "code",
   "execution_count": 27,
   "id": "40533fe5",
   "metadata": {},
   "outputs": [],
   "source": [
    "centery=np.uint8(center)"
   ]
  },
  {
   "cell_type": "code",
   "execution_count": 28,
   "id": "21e0b510",
   "metadata": {},
   "outputs": [
    {
     "data": {
      "text/plain": [
       "array([[204, 228,  82],\n",
       "       [ 28,  36,  16],\n",
       "       [105, 139,  35]], dtype=uint8)"
      ]
     },
     "execution_count": 28,
     "metadata": {},
     "output_type": "execute_result"
    }
   ],
   "source": [
    "centery"
   ]
  },
  {
   "cell_type": "code",
   "execution_count": 29,
   "id": "d07626db",
   "metadata": {},
   "outputs": [],
   "source": [
    "res=centery[label.flatten()]\n",
    "res_img=res.reshape((imgrgh.shape))"
   ]
  },
  {
   "cell_type": "code",
   "execution_count": 30,
   "id": "16cd9446",
   "metadata": {},
   "outputs": [
    {
     "data": {
      "text/plain": [
       "array([[[28, 36, 16],\n",
       "        [28, 36, 16],\n",
       "        [28, 36, 16],\n",
       "        ...,\n",
       "        [28, 36, 16],\n",
       "        [28, 36, 16],\n",
       "        [28, 36, 16]],\n",
       "\n",
       "       [[28, 36, 16],\n",
       "        [28, 36, 16],\n",
       "        [28, 36, 16],\n",
       "        ...,\n",
       "        [28, 36, 16],\n",
       "        [28, 36, 16],\n",
       "        [28, 36, 16]],\n",
       "\n",
       "       [[28, 36, 16],\n",
       "        [28, 36, 16],\n",
       "        [28, 36, 16],\n",
       "        ...,\n",
       "        [28, 36, 16],\n",
       "        [28, 36, 16],\n",
       "        [28, 36, 16]],\n",
       "\n",
       "       ...,\n",
       "\n",
       "       [[28, 36, 16],\n",
       "        [28, 36, 16],\n",
       "        [28, 36, 16],\n",
       "        ...,\n",
       "        [28, 36, 16],\n",
       "        [28, 36, 16],\n",
       "        [28, 36, 16]],\n",
       "\n",
       "       [[28, 36, 16],\n",
       "        [28, 36, 16],\n",
       "        [28, 36, 16],\n",
       "        ...,\n",
       "        [28, 36, 16],\n",
       "        [28, 36, 16],\n",
       "        [28, 36, 16]],\n",
       "\n",
       "       [[28, 36, 16],\n",
       "        [28, 36, 16],\n",
       "        [28, 36, 16],\n",
       "        ...,\n",
       "        [28, 36, 16],\n",
       "        [28, 36, 16],\n",
       "        [28, 36, 16]]], dtype=uint8)"
      ]
     },
     "execution_count": 30,
     "metadata": {},
     "output_type": "execute_result"
    }
   ],
   "source": [
    "res_img"
   ]
  },
  {
   "cell_type": "code",
   "execution_count": null,
   "id": "5e7ba88f",
   "metadata": {},
   "outputs": [],
   "source": [
    "cv.imshow('original',img)\n",
    "cv.imshow('segmented',res_img)\n",
    "cv.waitKey(0)\n",
    "cv.destroyAllwindows()"
   ]
  },
  {
   "cell_type": "code",
   "execution_count": null,
   "id": "16a5a43c",
   "metadata": {},
   "outputs": [],
   "source": [
    "image=cv.imread('\"C:/Users/SN124/image/ben 100.jfif\"')\n",
    "segmented_image=cv.pyrmeanShiftFilterimg(img,40,40)\n",
    "cv.imshow('original_Image',image)\n",
    "cv.imshow('segmented Image',segmented_image)\n",
    "cv.waitKey(0)\n",
    "cv.destroyAllWindows()"
   ]
  },
  {
   "cell_type": "code",
   "execution_count": null,
   "id": "0c93ec8c",
   "metadata": {},
   "outputs": [],
   "source": []
  }
 ],
 "metadata": {
  "kernelspec": {
   "display_name": "Python 3 (ipykernel)",
   "language": "python",
   "name": "python3"
  },
  "language_info": {
   "codemirror_mode": {
    "name": "ipython",
    "version": 3
   },
   "file_extension": ".py",
   "mimetype": "text/x-python",
   "name": "python",
   "nbconvert_exporter": "python",
   "pygments_lexer": "ipython3",
   "version": "3.9.12"
  }
 },
 "nbformat": 4,
 "nbformat_minor": 5
}

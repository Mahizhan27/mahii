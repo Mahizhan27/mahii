{
 "cells": [
  {
   "cell_type": "code",
   "execution_count": 1,
   "id": "c9eae449",
   "metadata": {},
   "outputs": [],
   "source": [
    "import cv2\n",
    "import numpy as np"
   ]
  },
  {
   "cell_type": "code",
   "execution_count": 3,
   "id": "8bb477af",
   "metadata": {},
   "outputs": [],
   "source": [
    "im1=cv2.imread(\"C:/Users/SN124/image/ben 10.jfif\")"
   ]
  },
  {
   "cell_type": "code",
   "execution_count": 4,
   "id": "bb1c4f31",
   "metadata": {},
   "outputs": [
    {
     "name": "stdout",
     "output_type": "stream",
     "text": [
      "(318, 318, 3)\n"
     ]
    }
   ],
   "source": [
    "shp=im1.shape\n",
    "print(shp)"
   ]
  },
  {
   "cell_type": "code",
   "execution_count": 5,
   "id": "0046eaf6",
   "metadata": {},
   "outputs": [
    {
     "name": "stdout",
     "output_type": "stream",
     "text": [
      "318\n",
      "318\n"
     ]
    }
   ],
   "source": [
    "height,width=im1.shape[:2]\n",
    "print(height)\n",
    "print(width)"
   ]
  },
  {
   "cell_type": "code",
   "execution_count": 8,
   "id": "769f6ace",
   "metadata": {},
   "outputs": [
    {
     "data": {
      "text/plain": [
       "(159.0, 159.0)"
      ]
     },
     "execution_count": 8,
     "metadata": {},
     "output_type": "execute_result"
    }
   ],
   "source": [
    "cent=(height/2,width/2)\n",
    "cent"
   ]
  },
  {
   "cell_type": "code",
   "execution_count": 9,
   "id": "4aa6599d",
   "metadata": {},
   "outputs": [],
   "source": [
    "rotation_matrix=cv2.getRotationMatrix2D(center=cent,angle=25,scale=0.5)"
   ]
  },
  {
   "cell_type": "code",
   "execution_count": 11,
   "id": "c4af0662",
   "metadata": {},
   "outputs": [
    {
     "name": "stdout",
     "output_type": "stream",
     "text": [
      "[[  0.45315389   0.21130913  53.35037912]\n",
      " [ -0.21130913   0.45315389 120.54668274]]\n"
     ]
    }
   ],
   "source": [
    "print(rotation_matrix)"
   ]
  },
  {
   "cell_type": "code",
   "execution_count": 12,
   "id": "451f6ba1",
   "metadata": {},
   "outputs": [],
   "source": [
    "rotation_im=cv2.warpAffine(src=im1, M=rotation_matrix, dsize=(width, height))"
   ]
  },
  {
   "cell_type": "code",
   "execution_count": null,
   "id": "ff374df8",
   "metadata": {},
   "outputs": [],
   "source": [
    "cv2.imshow('original image',im1)\n",
    "cv2.imshow('rotated image',rotation_im)\n",
    "cv2.waitKey(0)\n",
    "cv2.destroyAllwindows()"
   ]
  },
  {
   "cell_type": "code",
   "execution_count": null,
   "id": "5666d8ec",
   "metadata": {},
   "outputs": [],
   "source": [
    "tx,ty=width/2,height/2"
   ]
  },
  {
   "cell_type": "code",
   "execution_count": null,
   "id": "18006afb",
   "metadata": {},
   "outputs": [],
   "source": [
    "translation_matrix=np.array([[1,0,tx],[0,1,ty]])"
   ]
  },
  {
   "cell_type": "code",
   "execution_count": null,
   "id": "eb7fa354",
   "metadata": {},
   "outputs": [],
   "source": [
    "translation_matrix"
   ]
  },
  {
   "cell_type": "code",
   "execution_count": null,
   "id": "c57128d9",
   "metadata": {},
   "outputs": [],
   "source": [
    "trans_im=cv2.warAffine(src=im1, M=translation)"
   ]
  }
 ],
 "metadata": {
  "kernelspec": {
   "display_name": "Python 3 (ipykernel)",
   "language": "python",
   "name": "python3"
  },
  "language_info": {
   "codemirror_mode": {
    "name": "ipython",
    "version": 3
   },
   "file_extension": ".py",
   "mimetype": "text/x-python",
   "name": "python",
   "nbconvert_exporter": "python",
   "pygments_lexer": "ipython3",
   "version": "3.9.12"
  }
 },
 "nbformat": 4,
 "nbformat_minor": 5
}

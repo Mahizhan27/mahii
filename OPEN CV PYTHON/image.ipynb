{
 "cells": [
  {
   "cell_type": "code",
   "execution_count": 1,
   "id": "3cece26d",
   "metadata": {},
   "outputs": [],
   "source": [
    "import cv2"
   ]
  },
  {
   "cell_type": "code",
   "execution_count": 2,
   "id": "b1fbcd36",
   "metadata": {},
   "outputs": [],
   "source": [
    "import numpy as np"
   ]
  },
  {
   "cell_type": "code",
   "execution_count": 17,
   "id": "60a5c536",
   "metadata": {},
   "outputs": [
    {
     "name": "stdout",
     "output_type": "stream",
     "text": [
      "(300, 168, 3)\n"
     ]
    }
   ],
   "source": [
    "im1=cv2.imread(\"C:/Users/SN124/Downloads/download.jfif\")\n",
    "print(im1.shape)"
   ]
  },
  {
   "cell_type": "code",
   "execution_count": 18,
   "id": "00918a95",
   "metadata": {},
   "outputs": [
    {
     "name": "stdout",
     "output_type": "stream",
     "text": [
      "(485, 728, 3)\n"
     ]
    }
   ],
   "source": [
    "im2=cv2.imread(\"C:/Users/SN124/Downloads/bmw-car-interior-black-bmw-e46-wallpaper-preview.jpg\")\n",
    "print(im2.shape)"
   ]
  },
  {
   "cell_type": "code",
   "execution_count": 21,
   "id": "1181b09f",
   "metadata": {},
   "outputs": [],
   "source": [
    "im2_resize=cv2.resize(im1,(168,300))"
   ]
  },
  {
   "cell_type": "code",
   "execution_count": 22,
   "id": "a2c8aedc",
   "metadata": {},
   "outputs": [
    {
     "ename": "NameError",
     "evalue": "name 'int_resize' is not defined",
     "output_type": "error",
     "traceback": [
      "\u001b[1;31m---------------------------------------------------------------------------\u001b[0m",
      "\u001b[1;31mNameError\u001b[0m                                 Traceback (most recent call last)",
      "Input \u001b[1;32mIn [22]\u001b[0m, in \u001b[0;36m<cell line: 1>\u001b[1;34m()\u001b[0m\n\u001b[1;32m----> 1\u001b[0m \u001b[38;5;28mprint\u001b[39m(\u001b[43mint_resize\u001b[49m\u001b[38;5;241m.\u001b[39mshape)\n",
      "\u001b[1;31mNameError\u001b[0m: name 'int_resize' is not defined"
     ]
    }
   ],
   "source": [
    "print(int_resize.shape)"
   ]
  },
  {
   "cell_type": "code",
   "execution_count": 19,
   "id": "7eaa2a62",
   "metadata": {},
   "outputs": [
    {
     "data": {
      "text/plain": [
       "array([[[ 37,  92, 123],\n",
       "        [ 40,  99, 131],\n",
       "        [ 62, 125, 163],\n",
       "        ...,\n",
       "        [  9,  18,   8],\n",
       "        [  9,  18,   8],\n",
       "        [  9,  18,   8]],\n",
       "\n",
       "       [[ 50, 105, 136],\n",
       "        [ 57, 116, 148],\n",
       "        [ 71, 137, 172],\n",
       "        ...,\n",
       "        [  9,  18,   8],\n",
       "        [  9,  18,   8],\n",
       "        [  9,  18,   8]],\n",
       "\n",
       "       [[ 65, 126, 152],\n",
       "        [ 80, 142, 172],\n",
       "        [ 87, 155, 190],\n",
       "        ...,\n",
       "        [  9,  18,   8],\n",
       "        [  9,  18,   8],\n",
       "        [  9,  18,   8]],\n",
       "\n",
       "       ...,\n",
       "\n",
       "       [[198, 218, 219],\n",
       "        [191, 212, 213],\n",
       "        [166, 193, 190],\n",
       "        ...,\n",
       "        [247, 242, 241],\n",
       "        [236, 231, 230],\n",
       "        [255, 251, 250]],\n",
       "\n",
       "       [[198, 216, 217],\n",
       "        [194, 215, 216],\n",
       "        [154, 185, 182],\n",
       "        ...,\n",
       "        [245, 240, 239],\n",
       "        [245, 240, 239],\n",
       "        [250, 245, 244]],\n",
       "\n",
       "       [[211, 229, 230],\n",
       "        [201, 222, 223],\n",
       "        [175, 206, 203],\n",
       "        ...,\n",
       "        [248, 243, 242],\n",
       "        [252, 247, 246],\n",
       "        [251, 246, 245]]], dtype=uint8)"
      ]
     },
     "execution_count": 19,
     "metadata": {},
     "output_type": "execute_result"
    }
   ],
   "source": [
    "im1"
   ]
  },
  {
   "cell_type": "code",
   "execution_count": 20,
   "id": "8de0e4f4",
   "metadata": {},
   "outputs": [
    {
     "data": {
      "text/plain": [
       "array([[[22, 19, 15],\n",
       "        [21, 18, 14],\n",
       "        [21, 17, 16],\n",
       "        ...,\n",
       "        [ 5,  4,  6],\n",
       "        [10,  9, 11],\n",
       "        [11, 10, 12]],\n",
       "\n",
       "       [[20, 17, 13],\n",
       "        [20, 17, 13],\n",
       "        [21, 17, 16],\n",
       "        ...,\n",
       "        [ 6,  5,  7],\n",
       "        [ 9,  8, 10],\n",
       "        [ 9,  8, 10]],\n",
       "\n",
       "       [[19, 16, 12],\n",
       "        [20, 17, 13],\n",
       "        [21, 17, 16],\n",
       "        ...,\n",
       "        [ 6,  5,  7],\n",
       "        [ 8,  7,  9],\n",
       "        [ 6,  5,  7]],\n",
       "\n",
       "       ...,\n",
       "\n",
       "       [[ 8,  7,  9],\n",
       "        [ 5,  4,  6],\n",
       "        [ 5,  4,  6],\n",
       "        ...,\n",
       "        [ 6,  6,  6],\n",
       "        [ 6,  6,  6],\n",
       "        [ 5,  5,  5]],\n",
       "\n",
       "       [[ 9,  8, 10],\n",
       "        [ 6,  5,  7],\n",
       "        [ 5,  4,  6],\n",
       "        ...,\n",
       "        [ 5,  5,  5],\n",
       "        [ 5,  4,  6],\n",
       "        [ 4,  3,  5]],\n",
       "\n",
       "       [[10,  9, 11],\n",
       "        [ 7,  6,  8],\n",
       "        [ 5,  4,  6],\n",
       "        ...,\n",
       "        [ 4,  3,  5],\n",
       "        [ 4,  3,  5],\n",
       "        [ 4,  3,  5]]], dtype=uint8)"
      ]
     },
     "execution_count": 20,
     "metadata": {},
     "output_type": "execute_result"
    }
   ],
   "source": [
    "im2"
   ]
  },
  {
   "cell_type": "code",
   "execution_count": 16,
   "id": "1e915e1c",
   "metadata": {},
   "outputs": [
    {
     "ename": "error",
     "evalue": "OpenCV(4.9.0) D:\\a\\opencv-python\\opencv-python\\opencv\\modules\\core\\src\\arithm.cpp:650: error: (-209:Sizes of input arguments do not match) The operation is neither 'array op array' (where arrays have the same size and the same number of channels), nor 'array op scalar', nor 'scalar op array' in function 'cv::arithm_op'\n",
     "output_type": "error",
     "traceback": [
      "\u001b[1;31m---------------------------------------------------------------------------\u001b[0m",
      "\u001b[1;31merror\u001b[0m                                     Traceback (most recent call last)",
      "Input \u001b[1;32mIn [16]\u001b[0m, in \u001b[0;36m<cell line: 1>\u001b[1;34m()\u001b[0m\n\u001b[1;32m----> 1\u001b[0m im3\u001b[38;5;241m=\u001b[39m\u001b[43mcv2\u001b[49m\u001b[38;5;241;43m.\u001b[39;49m\u001b[43maddWeighted\u001b[49m\u001b[43m(\u001b[49m\u001b[43mim1\u001b[49m\u001b[43m,\u001b[49m\u001b[38;5;241;43m0.7\u001b[39;49m\u001b[43m,\u001b[49m\u001b[43mim2\u001b[49m\u001b[43m,\u001b[49m\u001b[38;5;241;43m0.3\u001b[39;49m\u001b[43m,\u001b[49m\u001b[38;5;241;43m0\u001b[39;49m\u001b[43m)\u001b[49m\n",
      "\u001b[1;31merror\u001b[0m: OpenCV(4.9.0) D:\\a\\opencv-python\\opencv-python\\opencv\\modules\\core\\src\\arithm.cpp:650: error: (-209:Sizes of input arguments do not match) The operation is neither 'array op array' (where arrays have the same size and the same number of channels), nor 'array op scalar', nor 'scalar op array' in function 'cv::arithm_op'\n"
     ]
    }
   ],
   "source": [
    "im3=cv2.addWeighted(im1,    "
   ]
  },
  {
   "cell_type": "code",
   "execution_count": null,
   "id": "236f3fa8",
   "metadata": {},
   "outputs": [],
   "source": []
  }
 ],
 "metadata": {
  "kernelspec": {
   "display_name": "Python 3 (ipykernel)",
   "language": "python",
   "name": "python3"
  },
  "language_info": {
   "codemirror_mode": {
    "name": "ipython",
    "version": 3
   },
   "file_extension": ".py",
   "mimetype": "text/x-python",
   "name": "python",
   "nbconvert_exporter": "python",
   "pygments_lexer": "ipython3",
   "version": "3.9.12"
  }
 },
 "nbformat": 4,
 "nbformat_minor": 5
}

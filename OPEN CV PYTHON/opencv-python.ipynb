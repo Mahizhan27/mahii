{
 "cells": [
  {
   "cell_type": "code",
   "execution_count": 1,
   "id": "b85714c5",
   "metadata": {},
   "outputs": [
    {
     "name": "stdout",
     "output_type": "stream",
     "text": [
      "Requirement already satisfied: opencv-python in c:\\programdata\\anaconda3\\lib\\site-packages (4.9.0.80)\n",
      "Requirement already satisfied: numpy>=1.19.3 in c:\\programdata\\anaconda3\\lib\\site-packages (from opencv-python) (1.21.5)\n",
      "Note: you may need to restart the kernel to use updated packages.\n"
     ]
    }
   ],
   "source": [
    "pip install opencv-python"
   ]
  },
  {
   "cell_type": "code",
   "execution_count": 2,
   "id": "06413790",
   "metadata": {},
   "outputs": [],
   "source": [
    "import cv2"
   ]
  },
  {
   "cell_type": "code",
   "execution_count": 3,
   "id": "f094ba85",
   "metadata": {},
   "outputs": [],
   "source": [
    "import numpy as np"
   ]
  },
  {
   "cell_type": "code",
   "execution_count": 4,
   "id": "0cb44b29",
   "metadata": {},
   "outputs": [],
   "source": [
    "im1=cv2.imread(\"C:/Users/SN124/Downloads/bmw_m4_interior_2-HD.jpg\")"
   ]
  },
  {
   "cell_type": "code",
   "execution_count": 5,
   "id": "94756aac",
   "metadata": {},
   "outputs": [
    {
     "data": {
      "text/plain": [
       "array([[[255, 253, 252],\n",
       "        [252, 248, 247],\n",
       "        [253, 249, 248],\n",
       "        ...,\n",
       "        [156, 140, 248],\n",
       "        [152, 137, 242],\n",
       "        [152, 136, 244]],\n",
       "\n",
       "       [[255, 251, 250],\n",
       "        [253, 249, 248],\n",
       "        [255, 251, 250],\n",
       "        ...,\n",
       "        [152, 135, 246],\n",
       "        [149, 132, 243],\n",
       "        [152, 135, 246]],\n",
       "\n",
       "       [[254, 250, 249],\n",
       "        [254, 250, 249],\n",
       "        [255, 252, 251],\n",
       "        ...,\n",
       "        [151, 134, 245],\n",
       "        [150, 131, 248],\n",
       "        [154, 137, 248]],\n",
       "\n",
       "       ...,\n",
       "\n",
       "       [[ 24,  16,   3],\n",
       "        [ 24,  16,   3],\n",
       "        [ 27,  19,   6],\n",
       "        ...,\n",
       "        [ 32,  20,   2],\n",
       "        [ 35,  23,   5],\n",
       "        [ 38,  26,   8]],\n",
       "\n",
       "       [[ 24,  16,   3],\n",
       "        [ 29,  21,   8],\n",
       "        [ 28,  20,   7],\n",
       "        ...,\n",
       "        [ 35,  23,   5],\n",
       "        [ 31,  19,   1],\n",
       "        [ 34,  23,   3]],\n",
       "\n",
       "       [[ 26,  18,   5],\n",
       "        [ 29,  21,   8],\n",
       "        [ 22,  14,   1],\n",
       "        ...,\n",
       "        [ 38,  26,   8],\n",
       "        [ 35,  24,   4],\n",
       "        [ 36,  25,   5]]], dtype=uint8)"
      ]
     },
     "execution_count": 5,
     "metadata": {},
     "output_type": "execute_result"
    }
   ],
   "source": [
    "im1"
   ]
  },
  {
   "cell_type": "code",
   "execution_count": null,
   "id": "e61ecd03",
   "metadata": {},
   "outputs": [],
   "source": [
    "cv2.imshow(\"w1\",im1)\n",
    "cv2.waitKey(0)\n",
    "cv2.desroyAllwindows"
   ]
  },
  {
   "cell_type": "code",
   "execution_count": null,
   "id": "6e315575",
   "metadata": {},
   "outputs": [],
   "source": []
  }
 ],
 "metadata": {
  "kernelspec": {
   "display_name": "Python 3 (ipykernel)",
   "language": "python",
   "name": "python3"
  },
  "language_info": {
   "codemirror_mode": {
    "name": "ipython",
    "version": 3
   },
   "file_extension": ".py",
   "mimetype": "text/x-python",
   "name": "python",
   "nbconvert_exporter": "python",
   "pygments_lexer": "ipython3",
   "version": "3.9.12"
  }
 },
 "nbformat": 4,
 "nbformat_minor": 5
}

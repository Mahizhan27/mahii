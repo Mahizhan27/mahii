{
 "cells": [
  {
   "cell_type": "code",
   "execution_count": 1,
   "id": "1432b589",
   "metadata": {},
   "outputs": [],
   "source": [
    "import cv2 as cv"
   ]
  },
  {
   "cell_type": "code",
   "execution_count": 2,
   "id": "bc2f029d",
   "metadata": {},
   "outputs": [],
   "source": [
    "img=cv.imread(\"C:/Users/SN124/image/ben 100.jfif\")"
   ]
  },
  {
   "cell_type": "markdown",
   "id": "14985600",
   "metadata": {},
   "source": [
    "canny edge\n"
   ]
  },
  {
   "cell_type": "code",
   "execution_count": 3,
   "id": "6f3306af",
   "metadata": {},
   "outputs": [],
   "source": [
    "canny=cv.Canny(img,40,200)"
   ]
  },
  {
   "cell_type": "markdown",
   "id": "38a00f1e",
   "metadata": {},
   "source": [
    "display\n"
   ]
  },
  {
   "cell_type": "code",
   "execution_count": null,
   "id": "183b8461",
   "metadata": {},
   "outputs": [],
   "source": [
    "cv.imshow('ORG',img)\n",
    "cv.imshow('CAN',canny)\n",
    "cv.waitKey(0)\n",
    "cv.destroyallwindows()"
   ]
  },
  {
   "cell_type": "code",
   "execution_count": null,
   "id": "8a9feef7",
   "metadata": {},
   "outputs": [],
   "source": []
  }
 ],
 "metadata": {
  "kernelspec": {
   "display_name": "Python 3 (ipykernel)",
   "language": "python",
   "name": "python3"
  },
  "language_info": {
   "codemirror_mode": {
    "name": "ipython",
    "version": 3
   },
   "file_extension": ".py",
   "mimetype": "text/x-python",
   "name": "python",
   "nbconvert_exporter": "python",
   "pygments_lexer": "ipython3",
   "version": "3.9.12"
  }
 },
 "nbformat": 4,
 "nbformat_minor": 5
}
